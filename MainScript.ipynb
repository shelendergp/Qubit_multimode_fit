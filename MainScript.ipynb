{
 "cells": [
  {
   "cell_type": "markdown",
   "id": "d8edd734-148e-4ec9-857f-d579b8bc5f01",
   "metadata": {},
   "source": [
    "# Two_tone_fit"
   ]
  },
  {
   "cell_type": "markdown",
   "id": "65347de5-a543-4f2a-a91a-ff5b0d261700",
   "metadata": {},
   "source": [
    "## Imports"
   ]
  },
  {
   "cell_type": "code",
   "execution_count": 1,
   "id": "e1b88e4c-7238-4ea8-912a-799caf1ed52f",
   "metadata": {},
   "outputs": [],
   "source": [
    "# MainScript.py\n",
    "\n",
    "import numpy as np\n",
    "import matplotlib.pyplot as plt\n",
    "\n",
    "from labellines import *\n",
    "import time\n",
    "\n",
    "from scqubits import *\n",
    "import scqubits\n",
    "scqubits.settings.NUM_CPUS = 4\n",
    "scqubits.settings.OVERLAP_THRESHOLD  = 1.0 #  In order to look for the indices\n",
    "\n",
    "\n",
    "from scipy.optimize import minimize\n",
    "\n",
    "%matplotlib qt\n",
    "from tqdm import tqdm\n",
    "\n",
    "\n",
    "\n",
    "from labmate.acquisition_notebook import AcquisitionAnalysisManager\n",
    "\n",
    "\n",
    "from Multi_mode_aux import *"
   ]
  },
  {
   "cell_type": "markdown",
   "id": "94242419-536f-4951-95dc-7d89879d22ea",
   "metadata": {},
   "source": [
    "## Plotting"
   ]
  },
  {
   "cell_type": "markdown",
   "id": "4600e1a6-c5af-464a-be65-4962b5f74b3c",
   "metadata": {},
   "source": [
    "### Importing the file"
   ]
  },
  {
   "cell_type": "code",
   "execution_count": 2,
   "id": "e0dbaaad-deaf-44c2-844b-85acad5b2987",
   "metadata": {},
   "outputs": [],
   "source": [
    "# Define paths to files and other necessary variables\n",
    "data_directory = r'S:\\__ExperimentalData\\Ouroboros\\Data\\Labmate'\n",
    "file_paths = [\n",
    "    r\"S:\\__ExperimentalData\\Ouroboros\\Data\\Labmate\\Two tones with ext. microwave src\\2024_03_11__19_58_37__Two tones with ext. microwave src.h5\",\n",
    "    r\"S:\\__ExperimentalData\\Ouroboros\\Data\\Labmate\\Two tones with ext. microwave src\\2024_03_14__10_56_45__Two tones with ext. microwave src.h5\",\n",
    "    # r\"S:\\__ExperimentalData\\Ouroboros\\Data\\Labmate\\Two tones with ext. microwave src\\2024_03_15__17_16_51__Two tones with ext. microwave src.h5\",\n",
    "    # r\"S:\\__ExperimentalData\\Ouroboros\\Data\\Labmate\\Two tones with ext. microwave src\\2024_03_15__00_35_05__Two tones with ext. microwave src.h5\",\n",
    "    # r\"S:\\__ExperimentalData\\Ouroboros\\Data\\Labmate\\Two tones with ext. microwave src\\2024_03_16__12_51_19__Two tones with ext. microwave src.h5\",\n",
    "    # r\"S:\\__ExperimentalData\\Ouroboros\\Data\\Labmate\\Two tones with ext. microwave src\\2024_03_16__13_35_56__Two tones with ext. microwave src.h5\",\n",
    "    # r\"S:\\__ExperimentalData\\Ouroboros\\Data\\Labmate\\Two tones with ext. microwave src\\2024_03_17__11_59_53__Two tones with ext. microwave src.h5\"\n",
    "]\n",
    "\n",
    "\n",
    "\n",
    "# Load and process data\n",
    "processed_data = load_and_process_data(data_directory, file_paths)"
   ]
  },
  {
   "cell_type": "markdown",
   "id": "4ed5bfe2-ba92-4063-a55e-63c661efb5fe",
   "metadata": {},
   "source": [
    "### Transparency and scale_bar of the plots"
   ]
  },
  {
   "cell_type": "code",
   "execution_count": 3,
   "id": "7e97523d-1173-43ac-b2dc-7963eb501587",
   "metadata": {},
   "outputs": [],
   "source": [
    "# Define alpha, vmin, and vmax values for each plot\n",
    "alphas = [1.0, 0.5]  # Example alpha values for each plot\n",
    "vmin_values = [-0.0005, 0.00]  # Example vmin values for each plot\n",
    "vmax_values = [0.0005, 0.0]  # Example vmax values for each plot\n",
    "auto_files = [1]  # Indices of files where you want to use 'auto' for vmin and vmax"
   ]
  },
  {
   "cell_type": "markdown",
   "id": "8b1ffbd0-dd72-4b07-a53b-ef98a3aa7f29",
   "metadata": {},
   "source": [
    "### Plotting the data"
   ]
  },
  {
   "cell_type": "code",
   "execution_count": 4,
   "id": "3c59d87b-91e7-4c90-aff0-cff41ae120ae",
   "metadata": {},
   "outputs": [],
   "source": [
    " # Plot the processed data\n",
    "plot_data(processed_data, alphas, vmin_values, vmax_values, auto_files)"
   ]
  },
  {
   "cell_type": "markdown",
   "id": "25cf3afc-4d72-49d2-9584-cea8c1888005",
   "metadata": {},
   "source": [
    "# Plotting the eigen energies"
   ]
  },
  {
   "cell_type": "code",
   "execution_count": 7,
   "id": "664bae0d-8641-4a9f-aeb2-d90f23d77959",
   "metadata": {},
   "outputs": [],
   "source": [
    "# Plot theory energies, this plots the eigen energies\n",
    "\n",
    "plt.close()\n",
    "fig = plt.figure(num = 2) # empty dataset\n",
    "p0 = {'Ej':6.98e9,'Ec':0.879e9, 'El':0.054e9, 'g1':2.106e9, 'g2':1.153e9,'g3':0.1e9, 'w1':3.8e9,'w2':6.1e9,'w3':6.87e9}  \n",
    "plot_theory_energies(fig, p0, flux_values=np.linspace(-1.1, 0.1, 10), levels=[\"1\",\"2\",\"3\",\"4\",\"5\",\"6\"])"
   ]
  },
  {
   "cell_type": "markdown",
   "id": "93917eb1-bc5f-40d7-a4c8-d39513179ccf",
   "metadata": {},
   "source": [
    "# Plotting the transitions"
   ]
  },
  {
   "cell_type": "code",
   "execution_count": 5,
   "id": "f7072987-b1e5-4565-87f0-0cab349e0d5d",
   "metadata": {},
   "outputs": [],
   "source": [
    "## Define integer_flux, amp per phi0 and number of oscillators\n",
    "Amp_per_phi0 = 0.1429013 \n",
    "current_integer_flux = 0.02724955\n",
    "n_oscillators = 3"
   ]
  },
  {
   "cell_type": "code",
   "execution_count": 10,
   "id": "0b2ae773-61c7-436b-b967-b344f7347663",
   "metadata": {},
   "outputs": [],
   "source": [
    "# Plot theory lines\n",
    "\n",
    "fig = plt.figure(num = 1) # empty dataset\n",
    "# Define your parameters dictionary\n",
    "p0 = {'Ej':6.98e9,'Ec':0.879e9, 'El':0.054e9, 'g1':2.106e9, 'g2':1.153e9,'g3':0.1e9, 'w1':3.8e9,'w2':6.1e9,'w3':6.87e9}  \n",
    "\n",
    "plot_theory_lines(fig, p0, flux_values=np.linspace(-0.54, -0.4356, 10), transitions=[\"15\",\"05\",\"04\",\"03\",\"14\",\"13\",\"01\",\"16\",\"06\",\"17\",\"07\",\"18\",\"08\",\"19\",\"09\"])"
   ]
  },
  {
   "cell_type": "markdown",
   "id": "ef5f0d9a-e017-4fba-a0fd-931f893aae04",
   "metadata": {},
   "source": [
    "# Fit"
   ]
  },
  {
   "cell_type": "code",
   "execution_count": 5,
   "id": "b5a19a94-df01-40ad-a8b0-46cbf0415c92",
   "metadata": {},
   "outputs": [],
   "source": [
    "# to remove the theory lines\n",
    "for i in range(10):\n",
    "    remove_lines(fig)"
   ]
  },
  {
   "cell_type": "code",
   "execution_count": 5,
   "id": "b0bae0e2-f2cc-4979-9b0c-a12d3f16fde5",
   "metadata": {},
   "outputs": [],
   "source": [
    "# Plot extracted points\n",
    "extracted_points = {\n",
    "    -0.042593:{\n",
    "                '05':3.0338e9,\n",
    "                '15':3.0050e9,\n",
    "                '04':2.9858e9,\n",
    "                '14':2.9566e9,\n",
    "            },\n",
    "        \n",
    "    -0.043276:{\n",
    "                '05':3.0242e9,\n",
    "                '15':3.0079e9,\n",
    "                '04':2.9818e9,\n",
    "                '14':2.9665e9,\n",
    "            },\n",
    "    -0.044202:{ \n",
    "                '01':2.6e7,\n",
    "                '16':5.765e9,\n",
    "                '06':5.765e9,\n",
    "                '17':5.809e9,\n",
    "                '07':5.809e9, \n",
    "                '05':3.0123e9,\n",
    "                '15':3.0123e9,\n",
    "                '04':2.9778e9,\n",
    "                '14':2.9778e9,\n",
    "                # '113':6.8673e9,\n",
    "                # '018':8.9727e9,\n",
    "                # '024':9.7571e9,\n",
    "                 # '112':6.8632e9,\n",
    "            },\n",
    "\n",
    "     # 0.026434:{\n",
    "     #            '01':1.2814e9,\n",
    "     #            '02':1.3062e9,\n",
    "     #        },\n",
    "     0.025413:{\n",
    "                '01':1.2634e9,\n",
    "                '02':1.3262e9,\n",
    "                },\n",
    "\n",
    "    # -0.0442011:{\n",
    "    #             '01':4.6e7\n",
    "    #            },\n",
    "\n",
    "#          -0.06556:{\n",
    "#                 '03':2.9575e9,\n",
    "                \n",
    "#             },\n",
    "\n",
    "#          -0.066854:{\n",
    "#                 '03':2.9737e9,\n",
    "               \n",
    "#             },\n",
    "\n",
    "#           -0.067705:{\n",
    "#                 '03':2.98e9,\n",
    "               \n",
    "#             },\n",
    " }"
   ]
  },
  {
   "cell_type": "code",
   "execution_count": 6,
   "id": "29a95a6b-2ade-4e1a-9c20-c184956e63ca",
   "metadata": {},
   "outputs": [],
   "source": [
    "plot_extracted_points(fig,extracted_points)"
   ]
  },
  {
   "cell_type": "code",
   "execution_count": 7,
   "id": "43d8bcfa-5ced-4c16-ba13-6062e3538a36",
   "metadata": {},
   "outputs": [],
   "source": [
    "# Perform minimization\n",
    "p0 = {'Ej': 6.98e9, 'Ec': 0.879e9, 'El': 0.054e9, 'g1': 2.106e9, 'g2': 1.153e9, 'g3': 0.1e9, 'w1': 3.8e9, 'w2': 6.1e9, 'w3': 6.87e9}"
   ]
  },
  {
   "cell_type": "code",
   "execution_count": 8,
   "id": "6ce01b67-057b-44f4-99ca-e3f58be890c8",
   "metadata": {},
   "outputs": [],
   "source": [
    "def function_to_minimize(parameters_list, extracted_points):\n",
    "    unrescaled_parameters = unrescale_parameter_array(parameters_list)\n",
    "    parameters = from_parameter_array_to_parameter_dict(unrescaled_parameters, n_oscillators)\n",
    "    return cost_function(parameters=parameters, extracted_points=extracted_points, model=model, cost_type='absolute', cutoff=70)\n",
    "\n",
    "# Perform minimization\n",
    "minimization = minimize(function_to_minimize, x0=rescale_parameter_array(list(p0.values())), args=(extracted_points,), method='Nelder-Mead')"
   ]
  },
  {
   "cell_type": "code",
   "execution_count": 9,
   "id": "008ecdef-2240-46b9-9fd5-65cb20689b8d",
   "metadata": {},
   "outputs": [
    {
     "data": {
      "text/plain": [
       "{'Ej': 7163497855.641307,\n",
       " 'Ec': 850761615.2939371,\n",
       " 'El': 59269783.69410215,\n",
       " 'g1': 2241888103.4561534,\n",
       " 'g2': 1129848831.1574388,\n",
       " 'g3': 97916103.62846233,\n",
       " 'w1': 3468160311.591037,\n",
       " 'w2': 6139475596.244926,\n",
       " 'w3': 6927285150.353502}"
      ]
     },
     "execution_count": 9,
     "metadata": {},
     "output_type": "execute_result"
    }
   ],
   "source": [
    "from_parameter_array_to_parameter_dict(unrescale_parameter_array(minimization.x), n_oscillators)"
   ]
  },
  {
   "cell_type": "code",
   "execution_count": 10,
   "id": "82f62966-dbd8-4246-80d9-36a2b4c94edc",
   "metadata": {},
   "outputs": [],
   "source": [
    "for i in range(10):\n",
    "    remove_lines(fig)\n",
    "plot_extracted_points(fig, extracted_points)"
   ]
  },
  {
   "cell_type": "code",
   "execution_count": 11,
   "id": "a0f81629-8916-451b-8c73-dc4bf82a575e",
   "metadata": {},
   "outputs": [],
   "source": [
    "plot_theory_lines(fig, from_parameter_array_to_parameter_dict(unrescale_parameter_array(minimization.x), n_oscillators), flux_values=np.linspace(-1.1, 0.1,500), transitions=['01', '02', '03', '04', '05','06','07','08','09','15','14','13','16','17','18','19','018','019','020', '021', '022', '023', '024', '025', '026','027',\n",
    "'028','029','110', '111', '112', '113', '114', '115', '116', '117', '118', '119'])"
   ]
  }
 ],
 "metadata": {
  "kernelspec": {
   "display_name": "Python 3 (ipykernel)",
   "language": "python",
   "name": "python3"
  },
  "language_info": {
   "codemirror_mode": {
    "name": "ipython",
    "version": 3
   },
   "file_extension": ".py",
   "mimetype": "text/x-python",
   "name": "python",
   "nbconvert_exporter": "python",
   "pygments_lexer": "ipython3",
   "version": "3.11.8"
  }
 },
 "nbformat": 4,
 "nbformat_minor": 5
}
